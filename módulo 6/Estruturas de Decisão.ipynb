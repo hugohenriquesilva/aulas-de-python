{
 "cells": [
  {
   "cell_type": "markdown",
   "id": "8535c274",
   "metadata": {
    "id": "8535c274"
   },
   "source": [
    "# Estruturas de decisão\n",
    "\n",
    "<span style=\"color: red;\"><b>Todos os exercícios são feitos partindo-se do pressuposto de que todas as entradas são dadas de forma correta. Casos limite não mencionados no enunciado não são abordados porque não fazem parte do exercício.</b></span>"
   ]
  },
  {
   "cell_type": "markdown",
   "id": "9c3d817e",
   "metadata": {
    "id": "9c3d817e"
   },
   "source": [
    "#### 1. Faça um Programa que peça dois números e imprima o maior deles."
   ]
  },
  {
   "cell_type": "code",
   "execution_count": 2,
   "id": "ae45c028",
   "metadata": {
    "id": "ae45c028"
   },
   "outputs": [
    {
     "name": "stdout",
     "output_type": "stream",
     "text": [
      "O maior número é 17\n"
     ]
    }
   ],
   "source": [
    "primeiroNum = int(input('Coloque o primeiro número'))\n",
    "segundoNum = int(input('Coloque o segundo número'))\n",
    "\n",
    "if primeiroNum > segundoNum:\n",
    "    print(f'O maior número é {primeiroNum}')\n",
    "else:\n",
    "    print(f'O maior número é {segundoNum}')"
   ]
  },
  {
   "cell_type": "markdown",
   "id": "ff510803",
   "metadata": {
    "id": "ff510803"
   },
   "source": [
    "#### 2. Faça um Programa que peça um valor e mostre na tela se o valor é positivo ou negativo."
   ]
  },
  {
   "cell_type": "code",
   "execution_count": 4,
   "id": "8952f58f",
   "metadata": {
    "id": "8952f58f"
   },
   "outputs": [
    {
     "name": "stdout",
     "output_type": "stream",
     "text": [
      "Esse número é positivo\n"
     ]
    }
   ],
   "source": [
    "valor = int(input('Coloque o número desejado'))\n",
    "\n",
    "if valor < 0:\n",
    "    print('Esse número é negativo')\n",
    "else:\n",
    "    print('Esse número é positivo')\n",
    "            "
   ]
  },
  {
   "cell_type": "markdown",
   "id": "6966546b",
   "metadata": {
    "id": "6966546b"
   },
   "source": [
    "#### 3. Faça um Programa que verifique o estado civil de uma pessoa. Se a letra digitada é \"C\" (Casado), \"S\" (Solteiro), \"D\" (Divorciado), \"V\" (Viúvo) ou \"O\" (outros). Conforme a letra escrita pelo usuário seu programa deve escrever o estado civil, exemplo:\n",
    "\n",
    "Usuário digita: C\n",
    "\n",
    "Seu programa deve responder:\n",
    "C - Casado"
   ]
  },
  {
   "cell_type": "code",
   "execution_count": 14,
   "id": "876a1e67",
   "metadata": {
    "id": "876a1e67"
   },
   "outputs": [
    {
     "name": "stdout",
     "output_type": "stream",
     "text": [
      "Selecione uma opção válida para o estado civil abaixo\n",
      "Você escolheu outros como opção\n"
     ]
    }
   ],
   "source": [
    "letraEstCivil = input('Digite o estado civil')\n",
    "\n",
    "if letraEstCivil == 'c':\n",
    "    estadoCivil = 'Casado'\n",
    "elif letraEstCivil == 's':\n",
    "    estadoCivil = 'Solteiro'\n",
    "elif letraEstCivil == 'd':\n",
    "    estadoCivil = 'Divorciado'\n",
    "elif letraEstCivil == 'v':\n",
    "    estadoCivil = 'Viúvo'\n",
    "elif letraEstCivil == 'o':\n",
    "    estadoCivil = 'Você escolheu outros como opção'\n",
    "else:\n",
    "    print('Selecione uma opção válida para o estado civil abaixo')\n",
    "\n",
    "print(f'{estadoCivil}')\n",
    "\n",
    "\n",
    "\n",
    "\n",
    "\n",
    "    "
   ]
  },
  {
   "cell_type": "markdown",
   "id": "c122c0cf",
   "metadata": {
    "id": "c122c0cf"
   },
   "source": [
    "#### 4. Faça um Programa que verifique se o e-mail digitado faz parte dos e-mails de spam."
   ]
  },
  {
   "cell_type": "code",
   "execution_count": 16,
   "id": "59bed184",
   "metadata": {
    "id": "59bed184"
   },
   "outputs": [],
   "source": [
    "emails_spam = \"fulano@gmail.com,beltrano@gmail.com,ciclano@gmail.com\"\n",
    "\n",
    "\n",
    "email = input(\"Digite o email\")\n",
    "\n",
    "if email in emails_spam:\n",
    "    print(\"Este email é um spam\")\n",
    "else:\n",
    "    pass\n"
   ]
  },
  {
   "cell_type": "markdown",
   "id": "487ee073",
   "metadata": {
    "id": "487ee073"
   },
   "source": [
    "#### 5. Faça um programa para a leitura de duas notas parciais de um aluno. O programa deve calcular a média alcançada por aluno e apresentar:\n",
    "\n",
    "##### A mensagem \"Aprovado\", se a média alcançada for maior ou igual a sete;\n",
    "##### A mensagem \"Reprovado\", se a média for menor do que sete;\n",
    "##### A mensagem \"Aprovado com Distinção\", se a média for igual a dez."
   ]
  },
  {
   "cell_type": "code",
   "execution_count": 20,
   "id": "7f5c7096",
   "metadata": {
    "id": "7f5c7096"
   },
   "outputs": [
    {
     "name": "stdout",
     "output_type": "stream",
     "text": [
      "Reprovado\n"
     ]
    }
   ],
   "source": [
    "notaUm = int(input('Coloque a primeira nota do aluno'))\n",
    "notaDois = int(input(\"Coloque a nota dois\"))\n",
    "\n",
    "media = (notaUm + notaDois)/2\n",
    "\n",
    "if media == 10:\n",
    "    print(\"Aprovado com distinção\")\n",
    "elif media >= 7:\n",
    "    print(\"Aprovado\")\n",
    "else:\n",
    "    print(\"Reprovado\")\n",
    "\n",
    "    "
   ]
  },
  {
   "cell_type": "markdown",
   "id": "6dd3f171",
   "metadata": {
    "id": "6dd3f171"
   },
   "source": [
    "#### 6. Faça um Programa que leia o orçamento de 3 empresas e mostre o maior deles."
   ]
  },
  {
   "cell_type": "code",
   "execution_count": 31,
   "id": "51b591e5",
   "metadata": {
    "id": "51b591e5"
   },
   "outputs": [
    {
     "name": "stdout",
     "output_type": "stream",
     "text": [
      "O terceiro orçamento é de maior valor\n"
     ]
    }
   ],
   "source": [
    "orcamentoUm = int(input('Coloque o valor do primeiro orçamento:'))\n",
    "orcamentoDois = int(input('Coloque o valor do segundo orçamento:'))\n",
    "orcamentoTres = int(input('Coloque o valor do terceiro orçamento:'))\n",
    "\n",
    "if orcamentoUm > orcamentoDois and orcamentoUm > orcamentoTres:\n",
    "    print('O primeiro orçamento é de maior valor')\n",
    "elif orcamentoDois > orcamentoUm and orcamentoDois > orcamentoTres:\n",
    "    print('O segundo orçamento é de maior valor')\n",
    "elif orcamentoTres > orcamentoUm and orcamentoTres > orcamentoDois:\n",
    "    print('O terceiro orçamento é de maior valor')\n",
    "          \n",
    "    \n",
    "\n"
   ]
  },
  {
   "cell_type": "markdown",
   "id": "ce09ed1c",
   "metadata": {
    "id": "ce09ed1c"
   },
   "source": [
    "#### 7. Faça um Programa que leia três orçamentos e mostre o maior e o menor deles."
   ]
  },
  {
   "cell_type": "code",
   "execution_count": 32,
   "id": "249f1eb8",
   "metadata": {
    "id": "249f1eb8"
   },
   "outputs": [
    {
     "name": "stdout",
     "output_type": "stream",
     "text": [
      "O maior orçamento é de 3\n",
      "O menor orçamento é de 1\n"
     ]
    }
   ],
   "source": [
    "orcamentoUm = int(input('Coloque o valor do primeiro orçamento:'))\n",
    "orcamentoDois = int(input('Coloque o valor do segundo orçamento:'))\n",
    "orcamentoTres = int(input('Coloque o valor do terceiro orçamento:'))\n",
    "\n",
    "if orcamentoUm > orcamentoDois and orcamentoUm > orcamentoTres:\n",
    "    maior = orcamentoUm\n",
    "    if orcamentoDois > orcamentoTres:\n",
    "        menor = orcamentoTres\n",
    "    else:\n",
    "        menor = orcamentoDois\n",
    "elif orcamentoDois > orcamentoUm and orcamentoDois > orcamentoTres:\n",
    "    maior = orcamentoDois\n",
    "    if orcamentoTres > orcamentoUm:\n",
    "        menor = orcamentoUm\n",
    "    else:\n",
    "        menor = orcamentoTres\n",
    "elif orcamentoTres > orcamentoUm and orcamentoTres > orcamentoDois:\n",
    "    maior = orcamentoTres\n",
    "    if orcamentoDois > orcamentoUm:\n",
    "        menor = orcamentoUm\n",
    "    else:\n",
    "        menor = orcamentoDois\n",
    "\n",
    "print('O maior orçamento é de {}'.format(maior))\n",
    "print('O menor orçamento é de {}'.format(menor))\n",
    "\n",
    "\n",
    "\n",
    "\n",
    "          "
   ]
  },
  {
   "cell_type": "markdown",
   "id": "7453d43a",
   "metadata": {
    "id": "7453d43a"
   },
   "source": [
    "#### 8. Faça um programa que pergunte o preço de três produtos e informe qual produto você deve comprar, sabendo que a decisão é sempre pelo mais barato."
   ]
  },
  {
   "cell_type": "code",
   "execution_count": 41,
   "id": "26a9503e",
   "metadata": {
    "id": "26a9503e"
   },
   "outputs": [
    {
     "name": "stdout",
     "output_type": "stream",
     "text": [
      "O produto três é o mais barato, no valor de R$30\n"
     ]
    }
   ],
   "source": [
    "produtoUm =int(input(\"Coloque o valor do primeiro produto\"))\n",
    "produtoDois = int(input(\"Coloque o valor do segundo produto\"))\n",
    "produtoTres = int(input(\"Coloque o valor do terceiro produto\"))\n",
    "\n",
    "\n",
    "if produtoUm < produtoDois and produtoUm < produtoTres:\n",
    "    print(f'O produto um é o mais barato, com valor de R${produtoUm}')\n",
    "elif produtoDois < produtoUm and produtoDois < produtoTres:\n",
    "    print(f'O produto dois é o mais barato, no valor de R${produtoDois}')\n",
    "else:\n",
    "    print(f'O produto três é o mais barato, no valor de R${produtoTres}')"
   ]
  },
  {
   "cell_type": "markdown",
   "id": "9ade258f",
   "metadata": {
    "id": "9ade258f"
   },
   "source": [
    "#### 9. Faça um Programa que leia três números e mostre-os em ordem decrescente."
   ]
  },
  {
   "cell_type": "code",
   "execution_count": 43,
   "id": "f194c39e",
   "metadata": {
    "id": "f194c39e"
   },
   "outputs": [
    {
     "name": "stdout",
     "output_type": "stream",
     "text": [
      "The descending order is 3, 2, 1\n"
     ]
    }
   ],
   "source": [
    "firstNumber = int(input('Fill de first number'))\n",
    "secondNumber = int(input('Fill the second number'))\n",
    "thirdNumber = int(input('Fill the third number'))\n",
    "\n",
    "\n",
    "#this first if will check if variable \"firstnumber\" is the biggest number between the options\n",
    "if firstNumber > secondNumber and firstNumber > thirdNumber:\n",
    "    biggest = firstNumber\n",
    "    #now, the algoritm will test whats the medium and the smallest number\n",
    "    if secondNumber > thirdNumber:\n",
    "        medium = secondNumber\n",
    "        smallest = thirdNumber\n",
    "    else:\n",
    "        medium = thirdNumber\n",
    "        smallest = secondNumber\n",
    "elif secondNumber > firstNumber and secondNumber > thirdNumber:\n",
    "    biggest = secondNumber\n",
    "    if firstNumber > thirdNumber:\n",
    "        medium = firstNumber\n",
    "        smallest = thirdNumber\n",
    "    else:\n",
    "        medium = thirdNumber\n",
    "        firstNumber = firstNumber\n",
    "elif thirdNumber > secondNumber and thirdNumber > firstNumber:\n",
    "    biggest = thirdNumber\n",
    "    if secondNumber > firstNumber:\n",
    "        medium = secondNumber\n",
    "        smallest = firstNumber\n",
    "    else:\n",
    "        medium = firstNumber\n",
    "        smallest = secondNumber\n",
    "\n",
    "\n",
    "print('The descending order is {}, {}, {}' .format(biggest, medium,smallest))"
   ]
  },
  {
   "cell_type": "markdown",
   "id": "d06e2fe8",
   "metadata": {
    "id": "d06e2fe8"
   },
   "source": [
    "#### 10. Faça um Programa que pergunte em que turno você estuda. Peça para digitar M-matutino ou V-Vespertino ou N- Noturno. Imprima a mensagem \"Bom Dia!\", \"Boa Tarde!\" ou \"Boa Noite!\" ou \"Valor Inválido!\", conforme o caso."
   ]
  },
  {
   "cell_type": "code",
   "execution_count": 47,
   "id": "1eb36141",
   "metadata": {
    "id": "1eb36141"
   },
   "outputs": [
    {
     "name": "stdout",
     "output_type": "stream",
     "text": [
      "Digite um turno válido\n"
     ]
    }
   ],
   "source": [
    "turno = input(\"Em qual turno você estuda? Digite 'm' para matutino, 'v' para vespertino ou 'n' para noturno\")\n",
    "\n",
    "if turno == 'm':\n",
    "    print('Bom dia')\n",
    "elif turno == 'v':\n",
    "    print('Boa tarde')\n",
    "elif turno == 'n':\n",
    "    print('Boa noite')\n",
    "else:\n",
    "    print(\"Digite um turno válido\")\n",
    "\n",
    "\n",
    "              "
   ]
  },
  {
   "cell_type": "markdown",
   "id": "4864b755",
   "metadata": {
    "id": "4864b755"
   },
   "source": [
    "#### 11. As Organizações Tabajara resolveram dar um aumento de salário aos seus colaboradores e lhe contraram para desenvolver o programa que calculará os reajustes. Faça um programa que recebe o salário de um colaborador e o reajuste segundo o seguinte critério, baseado no salário atual:\n",
    "\n",
    "##### salários até R\\\\$ 280,00 (incluindo) : aumento de 20% \n",
    "\n",
    "##### salários entre R\\\\$ 280,00 e R\\\\$ 700,00 : aumento de 15% \n",
    "\n",
    "##### salários entre R\\\\$ 700,00 e R\\\\$ 1500,00 : aumento de 10% \n",
    "\n",
    "##### salários de R\\\\$ 1500,00 em diante : aumento de 5% Após o aumento ser realizado, informe na tela: \n",
    "\n",
    "###### o salário antes do reajuste;\n",
    "\n",
    "###### o percentual de aumento aplicado;\n",
    "\n",
    "###### o valor do aumento;\n",
    "\n",
    "###### o novo salário, após o aumento.\n",
    "\n",
    "###### Obs: Não vamos nos preocupar tanto com a formatação dos números (nº de casas decimais, por exemplo, veremos isso no próximo módulo)"
   ]
  },
  {
   "cell_type": "code",
   "execution_count": 48,
   "id": "f0d34916",
   "metadata": {
    "id": "f0d34916"
   },
   "outputs": [
    {
     "name": "stdout",
     "output_type": "stream",
     "text": [
      "Salário antes do reajuste 1500\n",
      "O percentual de aumento foi de 10%\n",
      "O valor em dinheiro do aumento foi de 150.0\n",
      "O novo salário será de 1650.0\n"
     ]
    }
   ],
   "source": [
    "salario = int(input('Digite o salário do colaborador:'))\n",
    "\n",
    "if salario <= 280: \n",
    "    aumento = salario * 0.2\n",
    "    porcentagem = 20\n",
    "elif salario > 280 and salario <=700:\n",
    "    aumento = salario * 0.15\n",
    "    porcentagem = 15\n",
    "elif salario > 700 and salario <= 1500:\n",
    "    aumento = salario * 0.1\n",
    "    porcentagem = 10\n",
    "else:\n",
    "    aumento = salario * 0.05\n",
    "    porcentagem = 5\n",
    "\n",
    "print(f'Salário antes do reajuste {salario}')\n",
    "print(f'O percentual de aumento foi de {porcentagem}%')\n",
    "print(f'O valor em dinheiro do aumento foi de {aumento}')\n",
    "print(f'O novo salário será de {salario + aumento}')"
   ]
  },
  {
   "cell_type": "markdown",
   "id": "b037f1e8",
   "metadata": {
    "id": "b037f1e8"
   },
   "source": [
    "#### 12 . Faça um programa para o cálculo de uma folha de pagamento, sabendo que os descontos são do Imposto de Renda, que depende do salário bruto (conforme tabela abaixo) e que o FGTS corresponde a 11% do Salário Bruto, mas não é descontado (é a empresa que deposita). O Salário Líquido corresponde ao Salário Bruto menos os descontos. O programa deverá pedir ao usuário o valor da sua hora e a quantidade de horas trabalhadas no mês.\n",
    "\n",
    "Desconto do IR:<br>\n",
    "Salário Bruto até 900 (inclusive) - isento<br>\n",
    "Salário Bruto até 1500 (inclusive) - desconto de 5%<br>\n",
    "Salário Bruto até 2500 (inclusive) - desconto de 10%<br>\n",
    "Salário Bruto acima de 2500 - desconto de 20%<br>\n",
    "Imprima na tela as informações, dispostas conforme o exemplo abaixo. No exemplo o valor da hora é 5 e a quantidade de hora é 220.\n",
    "\n",
    "Salário Bruto: (5 * 220)        : R\\\\$ 1100,00<br>\n",
    "(-) IR (5%)                     : R\\\\$   55,00<br>\n",
    "(-) INSS ( 10%)                 : R\\\\$  110,00<br>\n",
    "FGTS (11%)                      : R\\\\$  121,00<br>\n",
    "Total de descontos              : R\\\\$  165,00<br>\n",
    "Salário Liquido                 : R\\\\$  935,00<br>\n",
    "\n",
    "###### Obs: Não vamos nos preocupar tanto com a formatação dos números (nº de casas decimais, por exemplo, veremos isso no próximo módulo)"
   ]
  },
  {
   "cell_type": "code",
   "execution_count": 50,
   "id": "dad18bb2",
   "metadata": {
    "id": "dad18bb2"
   },
   "outputs": [
    {
     "name": "stdout",
     "output_type": "stream",
     "text": [
      "Salário bruto: R$1100\n",
      "(-) IR(5%): R$55.0\n",
      "(-) INSS(10%): R$110.0\n",
      "FGTS(11%): R$121.0\n",
      "Total de descontos: R$165.0\n",
      "Salário líquido: R$935.0\n"
     ]
    }
   ],
   "source": [
    "valHora = int(input('Coloque o valor da hora do funcionário:'))\n",
    "quantdHoras = int(input('Coloque a quantidade de horas trabalhadas pelo funcionário:'))\n",
    "\n",
    "# essa variável corresponde ao salário bruto do funcionário \n",
    "salBruto = valHora * quantdHoras\n",
    "FGTS = salBruto * 0.11\n",
    "INSS = salBruto * 0.1\n",
    "\n",
    "#o IF seguinte faz a verificação sobre o imposto de renda do funcionário \n",
    "if salBruto <= 900:\n",
    "    IR = 0\n",
    "    IRdescricao = '0%' #essa variável coloca apenas uma descrição sobre a porcentagem para finalidade apenas de string\n",
    "elif salBruto > 900 and salBruto <=1500:\n",
    "    IR = 0.05 * salBruto\n",
    "    IRdescricao = '5%' \n",
    "elif salBruto > 1500 and salBruto <=2500:\n",
    "    IR = 0.1 * salBruto\n",
    "    IRdescricao = '10%'\n",
    "elif salBruto > 2500:\n",
    "    IR = 0.2 * salBruto\n",
    "    IRdescricao = '20%'\n",
    "\n",
    "print(f'Salário bruto: R${salBruto}')\n",
    "print(f'(-) IR({IRdescricao}): R${IR}')\n",
    "print(f'(-) INSS(10%): R${INSS}')\n",
    "print(f'FGTS(11%): R${FGTS}')\n",
    "print(f'Total de descontos: R${INSS + IR}')\n",
    "print(f'Salário líquido: R${salBruto - (INSS + IR)}')\n",
    "\n",
    "\n",
    "\n",
    "              "
   ]
  },
  {
   "cell_type": "markdown",
   "id": "814fc211",
   "metadata": {
    "id": "814fc211"
   },
   "source": [
    "#### 13. Faça um Programa que leia um número e exiba o dia correspondente da semana. (1-Domingo, 2- Segunda, etc.), se digitar outro valor deve aparecer valor inválido."
   ]
  },
  {
   "cell_type": "code",
   "execution_count": 53,
   "id": "f2c2b8d8",
   "metadata": {
    "id": "f2c2b8d8"
   },
   "outputs": [
    {
     "name": "stdout",
     "output_type": "stream",
     "text": [
      "Domingo\n"
     ]
    }
   ],
   "source": [
    "numSemana = int(input('Digite o número da semana:')) #essa variáqvel coleta o número do dia da semana\n",
    "\n",
    "if numSemana == 1:\n",
    "    print('Domingo')\n",
    "elif numSemana == 2:\n",
    "    print('Segunda-feira')\n",
    "elif numSemana == 3:\n",
    "    print('Terça-feira')\n",
    "elif numSemana == 3:\n",
    "    print('Terça-feira')\n",
    "elif numSemana == 4:\n",
    "    print('Quarta-feira')\n",
    "elif numSemana == 5:\n",
    "    print('Quinta-feira')\n",
    "elif numSemana == 6:\n",
    "    print('Sexta-feira')\n",
    "elif numSemana == 7:\n",
    "    print('Sábado')\n",
    "else:\n",
    "    print('Digite um número válido')"
   ]
  },
  {
   "cell_type": "markdown",
   "id": "6e5f461e",
   "metadata": {
    "id": "6e5f461e"
   },
   "source": [
    "#### 14. Faça um programa que lê as duas notas parciais obtidas por um aluno numa disciplina ao longo de um semestre, e calcule a sua média. Em seguida, mostre qual conceito o aluno teve. A atribuição de conceitos obedece à tabela abaixo:\n",
    "<pre>\n",
    "Média de Aproveitamento  Conceito\n",
    "Entre 9.0 e 10.0        A\n",
    "Entre 7.5 e 9.0         B\n",
    "Entre 6.0 e 7.5         C\n",
    "Entre 4.0 e 6.0         D\n",
    "Entre 4.0 e zero        E\n",
    "</pre>"
   ]
  },
  {
   "cell_type": "code",
   "execution_count": 55,
   "id": "29721a43",
   "metadata": {
    "id": "29721a43"
   },
   "outputs": [
    {
     "name": "stdout",
     "output_type": "stream",
     "text": [
      "Nota: E\n"
     ]
    }
   ],
   "source": [
    "primeiraNota = float(input('Digite a primeira nota do aluno'))\n",
    "segundaNota = float(input('Digite a segunda nota do aluno'))\n",
    "\n",
    "mediaAluno = (primeiraNota + segundaNota) / 2\n",
    "\n",
    "if mediaAluno > 9 and mediaAluno <= 10:\n",
    "    print('Nota: A')\n",
    "elif mediaAluno > 7.5 and mediaAluno <= 9:\n",
    "    print('Nota: B')\n",
    "elif mediaAluno > 6 and mediaAluno <= 7.5:\n",
    "    print('Nota: C')\n",
    "elif mediaAluno > 4 and mediaAluno <= 6:\n",
    "    print('Nota: D')\n",
    "else:\n",
    "    print('Nota: E')"
   ]
  },
  {
   "cell_type": "markdown",
   "id": "e6b3bcaf",
   "metadata": {
    "id": "e6b3bcaf"
   },
   "source": [
    "#### 15. Você está construindo um calendário para controlar dias de trabalho a pedido do RH. Nessa construção, você vai precisar definir quais anos são bissextos e quais não são, para montar o calendário de forma correta. Faça um Programa que peça um número correspondente a um determinado ano e em seguida informe se este ano é ou não bissexto.\n",
    "<pre>\n",
    "Dica para determinar se um ano é bissexto: \n",
    "- São bissextos todos os anos múltiplos de 400, p.ex.: 1600, 2000, 2400, 2800...\n",
    "- São bissextos todos os múltiplos de 4, exceto se for múltiplo de 100 mas não de 400, \n",
    "p.ex.: 1996, 2000, 2004, 2008, 2012, 2016, 2020, 2024, 2028...\n",
    "- Não são bissextos todos os demais anos.<br>\n",
    "ex1: 2004 é múltiplo de 4, mas não é múltiplo de 100, então é bissexto.\n",
    "ex2: 2000 é múltiplo de 4, mas é múltiplo de 100, só que também é multiplo de 400, então é bissexto (porque todo ano múltiplo de 400 é bissexto, independente do resto).\n",
    "ex3: 1900 é múltiplo de 4, é múltiplo de 100, mas não é múltiplo de 400, então não é bissexto\n",
    "\n",
    "</pre>\n",
    "\n",
    "Dica: lembre que: numero % 4 é o resto da divisão do número por 4, ex: 10 % 3 = 1 (já que 10/3 = 3 e resta 1)"
   ]
  },
  {
   "cell_type": "code",
   "execution_count": 10,
   "id": "56af223f",
   "metadata": {
    "id": "56af223f"
   },
   "outputs": [
    {
     "name": "stdout",
     "output_type": "stream",
     "text": [
      "1904 é um ano bissexto\n"
     ]
    }
   ],
   "source": [
    "anoTeste = int(input('Coloque o ano que deseja saber:'))\n",
    "\n",
    "teste1 = anoTeste % 400 #aqui está sendo feito um teste para saber se o ano é divisível por 400, caso seja, é bissexto\n",
    "teste2 = (anoTeste % 4) #as 3 próximas variáveis intituladas de teste verificam se é possível dividir o ano por 4, 100 e por 400\n",
    "teste3 = (anoTeste % 100)\n",
    "teste4 = (anoTeste % 400)\n",
    "\n",
    "\n",
    "if teste1 == 0:\n",
    "    print(f'{anoTeste} é um ano bissexto')\n",
    "elif teste2 == 0: \n",
    "\n",
    "    if teste3 == 0 and teste4 != 0:  \n",
    "       print(f'{anoTeste} não é um ano bissexto')\n",
    "    else:\n",
    "       print(f'{anoTeste} é um ano bissexto') \n",
    "           \n",
    "else:\n",
    "    print(f'{anoTeste} não é um ano bissexto')"
   ]
  },
  {
   "cell_type": "markdown",
   "id": "9fe532c8",
   "metadata": {
    "id": "9fe532c8"
   },
   "source": [
    "#### 16. Faça um Programa para leitura de três notas parciais de um aluno. O programa deve calcular a média alcançada por aluno e presentar:\n",
    "<pre>\n",
    "A mensagem \"Aprovado\", se a média for maior ou igual a 7, com a respectiva média alcançada;\n",
    "A mensagem \"Reprovado\", se a média for menor do que 7, com a respectiva média alcançada;\n",
    "A mensagem \"Aprovado com Distinção\", se a média for igual a 10.\n",
    "</pre>"
   ]
  },
  {
   "cell_type": "code",
   "execution_count": 16,
   "id": "1a56e99f",
   "metadata": {
    "id": "1a56e99f"
   },
   "outputs": [
    {
     "name": "stdout",
     "output_type": "stream",
     "text": [
      "Reprovado\n"
     ]
    }
   ],
   "source": [
    "nota1 = float(input('Insira a priemira nota'))\n",
    "nota2 = float(input('Insira a segunda nota'))\n",
    "nota3 = float(input('Insira a terceira nota'))\n",
    "\n",
    "\n",
    "if ((nota1 + nota2 + nota3) / 3) == 10:\n",
    "    print('Aprovado com distinção')\n",
    "elif ((nota1 + nota2 + nota3) / 3) >= 7:\n",
    "    print('Aprovado')\n",
    "else:\n",
    "    print(\"Reprovado\")"
   ]
  },
  {
   "cell_type": "markdown",
   "id": "d544412e",
   "metadata": {
    "id": "d544412e"
   },
   "source": [
    "#### 17. João Papo-de-Pescador, homem de bem, comprou um microcomputador para controlar o rendimento diário de seu trabalho. Toda vez que ele traz um peso de peixes maior que o estabelecido pelo regulamento de pesca do estado de São Paulo (50 quilos) deve pagar uma multa de R$ 4,00 por quilo excedente. João precisa que você faça um programa que leia a variável peso (peso de peixes) e calcule o excesso. Gravar na variável excesso a quantidade de quilos além do limite e na variável multa o valor da multa que João deverá pagar. Imprima os dados do programa com as mensagens adequadas."
   ]
  },
  {
   "cell_type": "code",
   "execution_count": 19,
   "id": "971ed027",
   "metadata": {
    "id": "971ed027"
   },
   "outputs": [
    {
     "name": "stdout",
     "output_type": "stream",
     "text": [
      "O peixe excedeu 8.5kg, o valor da multa será de R$34.0\n"
     ]
    }
   ],
   "source": [
    "pesoPeixe = float(input('Coloque o peso do peixe'))\n",
    "\n",
    "pesoPermitido = 50.0\n",
    "tarifaMulta = 4.0\n",
    "\n",
    "if (pesoPeixe - 50) <= 0:\n",
    "    print('Peixe dentro dos parâmetros de peso da lei')\n",
    "elif (pesoPeixe - 50) > 0:\n",
    "    valorMulta = (pesoPeixe - 50) * tarifaMulta\n",
    "    print(f'O peixe excedeu {pesoPeixe - 50}kg, o valor da multa será de R${valorMulta}')"
   ]
  },
  {
   "cell_type": "markdown",
   "id": "0e5256e0",
   "metadata": {
    "id": "0e5256e0"
   },
   "source": [
    "#### 18. Faça um Programa para um caixa eletrônico. O programa deverá perguntar ao usuário a valor do saque e depois informar quantas notas de cada valor serão fornecidas. As notas disponíveis serão as de 1, 5, 10, 50 e 100 reais. O valor mínimo é de 10 reais e o máximo de 600 reais. O programa não deve se preocupar com a quantidade de notas existentes na máquina.\n",
    "<pre>\n",
    "Exemplo 1: Para sacar a quantia de 256 reais, o programa fornece duas notas de 100, uma nota de 50, uma nota de 5 e uma nota de 1;\n",
    "Exemplo 2: Para sacar a quantia de 399 reais, o programa fornece três notas de 100, uma nota de 50, quatro notas de 10, uma nota de 5 e quatro notas de 1.\n",
    "</pre>\n",
    "\n",
    "Dica1: numero // 10 vai te dar como resposta a parte inteira da divisão do número por 10.<br>\n",
    "Dica2: numero % 10 vai te dar o resto da divisão do número por 10."
   ]
  },
  {
   "cell_type": "code",
   "execution_count": 22,
   "id": "9b4244c7",
   "metadata": {
    "id": "9b4244c7"
   },
   "outputs": [
    {
     "name": "stdout",
     "output_type": "stream",
     "text": [
      "2 notas de R$100\n",
      "1 notas de R$50\n",
      "1.0 notas de R$20\n",
      "1 notas de R$10\n",
      "6 notas de R$1\n"
     ]
    }
   ],
   "source": [
    "valorSaque = int(input('Coloque o valor que deseja sacar'))\n",
    "\n",
    "n100 = 0\n",
    "n50 = 0\n",
    "n20 = 0 \n",
    "n10 = 0 \n",
    "n5 = 0 \n",
    "n1 = 0\n",
    "\n",
    "if valorSaque >= 10 and valorSaque <=600:\n",
    "    if (valorSaque // 100) > 0:\n",
    "        n100 = valorSaque // 100\n",
    "        print(f'{n100} notas de R$100')\n",
    "    if ((valorSaque % 100) // 50) > 0:\n",
    "        n50 = (valorSaque % 100) // 50\n",
    "        print(f'{n50} notas de R$50')\n",
    "    if ((valorMulta % 50) // 20) > 0:\n",
    "        n20 = (valorMulta % 50) // 20\n",
    "        print(f'{n20} notas de R$20')\n",
    "    if ((valorSaque % 20) // 10) > 0:\n",
    "        n10 = (valorSaque % 20) // 10\n",
    "        print(f'{n10} notas de R$10')\n",
    "    if (valorSaque // 10) > 0:\n",
    "        n1 = (valorSaque % 10)\n",
    "        print(f'{n1} notas de R$1')     "
   ]
  },
  {
   "cell_type": "markdown",
   "id": "cba47494",
   "metadata": {
    "id": "cba47494"
   },
   "source": [
    "#### 19. Faça um programa que faça 5 perguntas para uma pessoa sobre um crime. As perguntas são:\n",
    "<pre>\n",
    "\"Telefonou para a vítima?\"\n",
    "\"Esteve no local do crime?\"\n",
    "\"Mora perto da vítima?\"\n",
    "\"Devia para a vítima?\"\n",
    "\"Já trabalhou com a vítima?\" \n",
    "O programa deve no final emitir uma classificação sobre a participação da pessoa no crime. Se a pessoa responder positivamente a 2 questões ela deve ser classificada como \"Suspeita\", entre 3 e 4 como \"Cúmplice\" e 5 como \"Assassino\". Caso contrário, ele será classificado como \"Inocente\".\n",
    "</pre>"
   ]
  },
  {
   "cell_type": "code",
   "execution_count": 4,
   "id": "5fdf9b88",
   "metadata": {
    "id": "5fdf9b88"
   },
   "outputs": [
    {
     "name": "stdout",
     "output_type": "stream",
     "text": [
      "Inocente\n"
     ]
    }
   ],
   "source": [
    "pergunta1 = int(input(\"Telefonou para a vítima? Responda 0 para 'NÃO' e 1 para 'SIM'\"))\n",
    "pergunta2 = int(input(\"Esteve no local do crime? Responda 0 para 'NÃO' e 1 para 'SIM'\"))\n",
    "pergunta3 = int(input(\"Mora perto da vítima? Responda 0 para 'NÃO' e 1 para 'SIM'\"))\n",
    "pergunta4 = int(input(\"Dea para a vítima? Responda 0 para 'NÃO' e 1 para 'SIM'\"))\n",
    "pergunta5 = int(input(\"Já trabalhou com a vítima? Responda 0 para 'NÃO' e 1 para 'SIM'\"))\n",
    "\n",
    "resultado = 0\n",
    "\n",
    "if pergunta1 == 1:\n",
    "    resultado += 1\n",
    "if pergunta2 == 1:\n",
    "    resultado += 1\n",
    "if pergunta3 == 1:\n",
    "    resultado += 1\n",
    "if pergunta4 == 1:\n",
    "    resultado += 1\n",
    "if pergunta5 == 1: \n",
    "    resultado += 1\n",
    "\n",
    "if resultado == 2:\n",
    "    print('Suspeita')\n",
    "elif resultado == 3 or resultado == 4:\n",
    "    print('Cúmplice')\n",
    "elif resultado == 5:\n",
    "    print('Assassino')\n",
    "else:\n",
    "    print('Inocente')"
   ]
  },
  {
   "cell_type": "markdown",
   "id": "18901e98",
   "metadata": {
    "id": "18901e98"
   },
   "source": [
    "#### 20. Um posto está vendendo combustíveis com a seguinte tabela de descontos:\n",
    "<pre>\n",
    "Álcool:\n",
    "até 20 litros, desconto de 3% por litro\n",
    "acima de 20 litros, desconto de 5% por litro\n",
    "Gasolina:\n",
    "até 20 litros, desconto de 4% por litro\n",
    "acima de 20 litros, desconto de 6% por litro\n",
    "\n",
    "Escreva um algoritmo que leia o número de litros vendidos, o tipo de combustível (codificado da seguinte forma: A-álcool, G-gasolina), calcule e imprima o valor a ser pago pelo cliente sabendo-se que o preço do litro da gasolina é R$ 2,50 o preço do litro do álcool é R$ 1,90.\n",
    "</pre>"
   ]
  },
  {
   "cell_type": "code",
   "execution_count": 9,
   "id": "a1fd8c38",
   "metadata": {
    "id": "a1fd8c38"
   },
   "outputs": [
    {
     "name": "stdout",
     "output_type": "stream",
     "text": [
      "Total a pagar: R$24.0\n"
     ]
    }
   ],
   "source": [
    "combustivel = input('Qual foi o combustível colocado? Coloque G para gasolina ou A para álcool')\n",
    "quantdLitros = int(input('Qual foi a quantidade de litros colocados?'))\n",
    "\n",
    "valorAlcool = 1.90\n",
    "valorGasolina = 2.5\n",
    "\n",
    "if combustivel == 'G' or combustivel == 'g':\n",
    "    totalBruto = valorGasolina * quantdLitros\n",
    "    if quantdLitros <= 20:\n",
    "        desconto = 0.04\n",
    "    elif quantdLitros > 20:\n",
    "        desconto = 0.06\n",
    "elif combustivel == 'A' or combustivel == 'a':\n",
    "    totalBruto = valorAlcool * quantdLitros\n",
    "    if quantdLitros <= 20:\n",
    "        desconto = 0.03\n",
    "    elif quantdLitros > 20:\n",
    "        desconto = 0.05     \n",
    "\n",
    "totalLiquido = totalBruto * (1 - desconto)  \n",
    "print(f'Total a pagar: R${totalLiquido}')              \n"
   ]
  },
  {
   "cell_type": "markdown",
   "id": "be0f8f32",
   "metadata": {
    "id": "be0f8f32"
   },
   "source": [
    "#### 21. Uma fruteira está vendendo frutas com a seguinte tabela de preços:\n",
    "<pre>\n",
    "                      Até 5 Kg           Acima de 5 Kg\n",
    "Morango         R$ 2,50 por Kg          R$ 2,20 por Kg\n",
    "Maçã            R$ 1,80 por Kg          R$ 1,50 por Kg\n",
    "Se o cliente comprar mais de 8 Kg em frutas ou o valor total da compra ultrapassar R$ 25,00, receberá ainda um desconto de 10% sobre este total. Escreva um algoritmo para ler a quantidade (em Kg) de morangos e a quantidade (em Kg) de maças adquiridas e escreva o valor a ser pago pelo cliente.\n",
    "</pre>"
   ]
  },
  {
   "cell_type": "code",
   "execution_count": 11,
   "id": "35c47c8e",
   "metadata": {
    "id": "35c47c8e"
   },
   "outputs": [
    {
     "name": "stdout",
     "output_type": "stream",
     "text": [
      "O valor total a pagar é de R$13.5\n"
     ]
    }
   ],
   "source": [
    "quantdMorango = float(input('Coloque o peso total em morangos:'))\n",
    "quantdMaca = float(input('Coloque o peso total em maçãs:'))\n",
    "\n",
    "totMorango = 0\n",
    "totMaca = 0\n",
    "totGeral = 0\n",
    "\n",
    "if quantdMorango <= 5:\n",
    "    totMorango = quantdMorango * 2.5\n",
    "elif quantdMorango > 5:\n",
    "    totMorango = quantdMorango * 2.2\n",
    "\n",
    "if quantdMaca <= 5:\n",
    "    totMaca = quantdMaca * 1.8\n",
    "elif quantdMaca > 5:\n",
    "    totMaca = quantdMaca * 1.5\n",
    "\n",
    "totGeral = totMaca + totMorango\n",
    "\n",
    "if (quantdMaca + quantdMorango) > 8 or totGeral > 25:\n",
    "    totGeral = totGeral * (1 - 0.1)\n",
    "\n",
    "print(f'O valor total a pagar é de R${totGeral}')    \n",
    "\n",
    "\n",
    "\n"
   ]
  },
  {
   "cell_type": "markdown",
   "id": "4dbd53ed",
   "metadata": {
    "id": "4dbd53ed"
   },
   "source": [
    "#### 22. O Hipermercado Tabajara está com uma promoção de carnes que é imperdível. Confira:\n",
    "<pre>\n",
    "                      Até 5 Kg           Acima de 5 Kg\n",
    "File Duplo      R$ 4,90 por Kg          R$ 5,80 por Kg\n",
    "Alcatra         R$ 5,90 por Kg          R$ 6,80 por Kg\n",
    "Picanha         R$ 6,90 por Kg          R$ 7,80 por Kg\n",
    "Para atender a todos os clientes, cada cliente poderá levar apenas um dos tipos de carne da promoção, porém não há limites para a quantidade de carne por cliente. Se compra for feita no cartão Tabajara o cliente receberá ainda um desconto de 5% sobre o total da compra. Escreva um programa que peça o tipo e a quantidade de carne comprada pelo usuário e gere um cupom fiscal, contendo as informações da compra: tipo e quantidade de carne, preço total, tipo de pagamento, valor do desconto e valor a pagar.\n",
    "</pre>"
   ]
  },
  {
   "cell_type": "code",
   "execution_count": null,
   "id": "15a77357",
   "metadata": {
    "id": "15a77357"
   },
   "outputs": [
    {
     "name": "stdout",
     "output_type": "stream",
     "text": [
      "Tipo da carne: ; 50.0kg\n",
      "Tipo da segunda carne: ; 4.0kg\n",
      "Valor total: R$0.0\n",
      "Pagamento: Cartão Tabajara\n",
      "Valor do desconto: R$0.0\n"
     ]
    }
   ],
   "source": [
    "tipo = input('Informe o tipo da carne: ')\n",
    "quantidade = float(input('Informe a quantidade de carne: '))\n",
    "pagamento = input('Escolha a forma de pagamento (C - Cartão Tabajara/D - Dinheiro): ')\n",
    "\n",
    "if tipo == 'File Duplo' and quantidade > 5:\n",
    "    total = 5.8 * quantidade\n",
    "elif tipo == 'File Duplo' and quantidade <= 5:\n",
    "    total = 4.9 * quantidade\n",
    "elif tipo == 'Alcatra' and quantidade > 5:\n",
    "    total = 6.8 * quantidade\n",
    "elif tipo == 'Alcatra' and quantidade <= 5:\n",
    "    total = 5.9 * quantidade\n",
    "elif tipo == 'Picanha' and quantidade > 5:\n",
    "    total = 7.8 * quantidade\n",
    "elif tipo == 'Picanha' and quantidade <= 5:\n",
    "    total = 6.9 * quantidade\n",
    "    \n",
    "print('--- CUPOM FISCAL ---')\n",
    "print('Tipo da carne:', tipo)\n",
    "print('Quantidade:', quantidade, 'kg')\n",
    "print('Preço total: R$', total)\n",
    "print('Forma de pagamento:', pagamento)\n",
    "\n",
    "desconto = 0.05 * total if pagamento == 'C' else 0\n",
    "\n",
    "print('Desconto: R$', desconto)\n",
    "print('Valor a pagar: R$', total - desconto)\n",
    "\n"
   ]
  },
  {
   "cell_type": "markdown",
   "id": "b949545b",
   "metadata": {
    "id": "b949545b"
   },
   "source": [
    "#### 23. Faça um Programa para uma loja de tintas. O programa deverá pedir o tamanho em metros quadrados da área a ser pintada. Considere que a cobertura da tinta é de 1 litro para cada 6 metros quadrados e que a tinta é vendida em latas de 18 litros, que custam R\\\\$ 80,00 ou em galões de 3,6 litros, que custam R\\\\$ 25,00."
   ]
  },
  {
   "cell_type": "code",
   "execution_count": 25,
   "id": "b11185b0",
   "metadata": {
    "id": "b11185b0"
   },
   "outputs": [],
   "source": [
    "area = float(input('Informe o tamanho da área a ser pintada em m²: '))\n",
    "litros_tinta = area / 6"
   ]
  },
  {
   "cell_type": "markdown",
   "id": "b3d0598f",
   "metadata": {
    "id": "b3d0598f"
   },
   "source": [
    "##### Informe ao usuário as quantidades de tinta a serem compradas e os respectivos preços em 3 situações.\n",
    "\n",
    "Dica: lembre dos operadores // e % mostrados em exercícios anteriores<br>\n",
    "Dica1: numero // 10 vai te dar como resposta a parte inteira da divisão do número por 10.<br>\n",
    "Dica2: numero % 10 vai te dar o resto da divisão do número por 10.\n",
    "\n",
    "##### 1. Comprar apenas latas de 18 litros: (apenas latas inteiras)"
   ]
  },
  {
   "cell_type": "code",
   "execution_count": 26,
   "id": "ed599d53",
   "metadata": {
    "id": "ed599d53"
   },
   "outputs": [
    {
     "name": "stdout",
     "output_type": "stream",
     "text": [
      "Quantidade de galões 10.0\n",
      "Valor R$800.0\n"
     ]
    }
   ],
   "source": [
    "area = float(input('Informe o tamanho da área a ser pintada em m²: '))\n",
    "litros_tinta = area / 6\n",
    "\n",
    "if (litros_tinta % 18)  == 0:\n",
    "    quantdTinta = litros_tinta / 18\n",
    "    valorTinta = quantdTinta * 80\n",
    "elif (litros_tinta % 18) > 0:\n",
    "    quantdTinta = (litros_tinta / 18) + 1\n",
    "    valorTinta = quantdTinta * 80\n",
    "\n",
    "print(f'Quantidade de galões {quantdTinta}')\n",
    "print(f'Valor R${valorTinta}')"
   ]
  },
  {
   "cell_type": "markdown",
   "id": "ab03bc10",
   "metadata": {
    "id": "ab03bc10"
   },
   "source": [
    "##### 2. Comprar apenas galões de 3,6 litros: (apenas galoes inteiros)"
   ]
  },
  {
   "cell_type": "code",
   "execution_count": null,
   "id": "542f4a77",
   "metadata": {
    "id": "542f4a77"
   },
   "outputs": [],
   "source": [
    "area = float(input('Informe o tamanho da área a ser pintada em m²: '))\n",
    "litros_tinta = area / 6\n",
    "\n",
    "\n",
    "if (litros_tinta % 3.6)  == 0:\n",
    "    quantdTinta = litros_tinta / 3.6\n",
    "    valorTinta = quantdTinta * 25\n",
    "elif (litros_tinta % 3.6) > 0:\n",
    "    quantdTinta = (litros_tinta / 3.6) + 1\n",
    "    valorTinta = quantdTinta * 25\n",
    "\n",
    "print(f'Quantidade de galões {quantdTinta}')\n",
    "print(f'Valor R${valorTinta}')"
   ]
  },
  {
   "cell_type": "markdown",
   "id": "8Jbw7RupH9Nc",
   "metadata": {
    "id": "8Jbw7RupH9Nc"
   },
   "source": [
    "##### 3. Misturar latas e galões, de forma que o desperdício de tinta seja menor. Acrescente 10% de folga e sempre arredonde os valores para cima, isto é, considere latas cheias."
   ]
  },
  {
   "cell_type": "markdown",
   "id": "93d4157b",
   "metadata": {
    "id": "93d4157b"
   },
   "source": [
    "O custo da lata é 80/18 = 4,44 R\\\\$/L\n",
    "\n",
    "O custo do galão é 25/3,6 = 6,94 R\\\\$/L\n",
    "\n",
    "A lata é mais econômica, então todas as latas inteiras que pudermos usar devemos comprar em latas. Se ficar faltando alguma coisa para completar devemos avaliar se é melhor comprar latas ou galões. Exemplo:\n",
    "\n",
    "Se queremos comprar 90 litros. 5 latas dão exatamente 90 litros. Então devemos comprar tudo em latas.\n",
    "\n",
    "Se queremos comprar 95 litros. 5 latas dão exatamente 90 litros. Então devemos comprar pelo menos 5 latas e avaliar o que falta, se estes últimos 5 litros valem mais apenas em latas ou galões.\n",
    "\n",
    "Para os 5 litros faltantes precisamos de 2 galões que custam 50 reais no total. Ou de uma lata que custa 80 reais no total. Portanto, neste caso vale mais a pena usar 2 galões.\n",
    "\n",
    "Se queremos comprar 107 litros. 5 latas dão exatamente 90 litros. Então devemos comprar pelo menos 5 latas e avaliar o que falta, se estes últimos 5 litros valem mais apenas em latas ou galões.\n",
    "\n",
    "Para os 17 litros faltantes precisamos de 5 galões que custam 125 reais no total. Ou de uma lata que custa 80 reais no total. Portanto, neste caso vale mais a pena usar uma lata.\n",
    "\n",
    "3 galões custam 75 reais, 4 galões custam 100 reais. Então, se for possível completar com até 3 galões escolhe-se galões. Qualquer quantidade maior que 3 galões, usa-se latas.\n",
    "\n",
    "Podemos ir ao exercício:"
   ]
  },
  {
   "cell_type": "code",
   "execution_count": 6,
   "id": "01d104b6",
   "metadata": {
    "id": "01d104b6"
   },
   "outputs": [
    {
     "name": "stdout",
     "output_type": "stream",
     "text": [
      "Para cobrir a área de 295.0m², você vai precisar de 4.0 latas + 0 em galões\n",
      "Gasto de R$320.0 em latas  + R$0 em galões\n",
      "Total: 320.0\n"
     ]
    }
   ],
   "source": [
    "area = float(input('Informe o tamanho da área a ser pintada em m²: '))\n",
    "litros_tinta = area / 6\n",
    "\n",
    "\n",
    "valGalao = 25\n",
    "valLata = 80 \n",
    "\n",
    "litros_tinta = litros_tinta * 1.1\n",
    "\n",
    "if litros_tinta < 18:\n",
    "    quantdGalao = ((litros_tinta / 3.6) + (3.6 - ((litros_tinta / 3.6) - (litros_tinta // 3.6)))) \n",
    "    totGalao = quantdGalao * valGalao\n",
    "elif litros_tinta >= 18:\n",
    "    quantdLata = (litros_tinta // 18) \n",
    "    totLata = quantdLata * valLata\n",
    "    quantdGalao = ((litros_tinta % 18) / 3.6) + ( 3.6 - (((litros_tinta % 18) / 3.6) - ((litros_tinta % 18) // 3.6)))\n",
    "    totGalao = quantdGalao * valGalao\n",
    "\n",
    "if totGalao > valLata:\n",
    "    totGalao = 0\n",
    "    quantdGalao = 0\n",
    "    quantdLata = quantdLata + 1 \n",
    "    totLata = totLata + valLata\n",
    "\n",
    "\n",
    "print(f'Para cobrir a área de {area}m², você vai precisar de {quantdLata} latas + {quantdGalao} em galões')\n",
    "print(f\"Gasto de R${totLata} em latas  + R${totGalao} em galões\")\n",
    "print(f'Total: {totGalao + totLata}')\n",
    "\n"
   ]
  }
 ],
 "metadata": {
  "colab": {
   "provenance": []
  },
  "kernelspec": {
   "display_name": "Python 3",
   "language": "python",
   "name": "python3"
  },
  "language_info": {
   "codemirror_mode": {
    "name": "ipython",
    "version": 3
   },
   "file_extension": ".py",
   "mimetype": "text/x-python",
   "name": "python",
   "nbconvert_exporter": "python",
   "pygments_lexer": "ipython3",
   "version": "3.12.4"
  }
 },
 "nbformat": 4,
 "nbformat_minor": 5
}
